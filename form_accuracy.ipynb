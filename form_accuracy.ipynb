{
 "cells": [
  {
   "cell_type": "code",
   "execution_count": 10,
   "metadata": {},
   "outputs": [],
   "source": [
    "import pandas as pd\n",
    "from sklearn.metrics import precision_score, recall_score, f1_score, accuracy_score\n",
    "\n",
    "# Load the correct data and extracted data from CSV files\n",
    "correct_data = pd.read_csv('real_files/form.csv')\n",
    "extracted_data = pd.read_csv('files/output.csv')\n",
    "\n",
    "# convert all fields into string\n",
    "correct_data = correct_data.astype(str)\n",
    "extracted_data = extracted_data.astype(str)\n"
   ]
  },
  {
   "cell_type": "code",
   "execution_count": 11,
   "metadata": {},
   "outputs": [],
   "source": [
    "from fuzzywuzzy import fuzz\n",
    "def text_similarity(string1, string2):\n",
    "    return fuzz.token_set_ratio(string1, string2)"
   ]
  },
  {
   "cell_type": "code",
   "execution_count": 12,
   "metadata": {},
   "outputs": [
    {
     "name": "stdout",
     "output_type": "stream",
     "text": [
      "bill_type Accuracy: 1.0\n",
      "bill_type Precision: 1.0\n",
      "bill_type Recall: 1.0\n",
      "bill_type F1-Score: 1.0\n",
      "bill_amount Accuracy: 0.8214285714285714\n",
      "bill_amount Precision: 0.8214285714285714\n",
      "bill_amount Recall: 0.8214285714285714\n",
      "bill_amount F1-Score: 0.8214285714285714\n",
      "bill_date Accuracy: 0.9285714285714286\n",
      "bill_date Precision: 1.0\n",
      "bill_date Recall: 1.0\n",
      "bill_date F1-Score: 1.0\n"
     ]
    }
   ],
   "source": [
    "\n",
    "\n",
    "'''img_path,bill_type,bill_date,bill_amount'''\n",
    "\n",
    "\n",
    "# Merge the two DataFrames on the 'image_path' column to compare data for the same images\n",
    "merged_data = pd.merge(correct_data, extracted_data, on='img_path', suffixes=('_correct', '_extracted'))\n",
    "\n",
    "# Evaluate bill_type accuracy\n",
    "bill_type_accuracy = accuracy_score(merged_data['bill_type_correct'], merged_data['bill_type_extracted'])\n",
    "\n",
    "# Evaluate bill_date accuracy (you may need to implement text similarity matching)\n",
    "# For text similarity matching, you can use libraries like fuzzywuzzy or difflib\n",
    "\n",
    "# Evaluate bill_amount accuracy\n",
    "bill_amount_accuracy = accuracy_score(merged_data['bill_amount_correct'], merged_data['bill_amount_extracted'])\n",
    "\n",
    "bill_date_accuracy = accuracy_score(merged_data['bill_date_correct'], merged_data['bill_date_extracted'])\n",
    "\n",
    "# Calculate precision, recall, and F1-score for each column\n",
    "bill_type_precision = precision_score(merged_data['bill_type_correct'], merged_data['bill_type_extracted'], average='weighted' ,zero_division=0)\n",
    "bill_type_recall = recall_score(merged_data['bill_type_correct'], merged_data['bill_type_extracted'], average='weighted',zero_division=0)\n",
    "bill_type_f1 = f1_score(merged_data['bill_type_correct'], merged_data['bill_type_extracted'], average='weighted',zero_division=0)\n",
    "\n",
    "bill_amount_precision = precision_score(merged_data['bill_amount_correct'], merged_data['bill_amount_extracted'], average='weighted',zero_division=0)\n",
    "bill_amount_recall = recall_score(merged_data['bill_amount_correct'], merged_data['bill_amount_extracted'], average='weighted',zero_division=0)\n",
    "bill_amount_f1 = f1_score(merged_data['bill_amount_correct'], merged_data['bill_amount_extracted'], average='weighted',zero_division=0)\n",
    "\n",
    "bill_date_precision = precision_score(merged_data['bill_date_extracted'], merged_data['bill_date_extracted'], average='weighted',zero_division=0)\n",
    "bill_date_recall = recall_score(merged_data['bill_date_extracted'], merged_data['bill_date_extracted'], average='weighted',zero_division=0)\n",
    "bill_date_f1 = f1_score(merged_data['bill_date_extracted'], merged_data['bill_date_extracted'], average='weighted',zero_division=0)\n",
    "\n",
    "\n",
    "# Print the results\n",
    "print(\"bill_type Accuracy:\", bill_type_accuracy)\n",
    "print(\"bill_type Precision:\", bill_type_precision)\n",
    "print(\"bill_type Recall:\", bill_type_recall)\n",
    "print(\"bill_type F1-Score:\", bill_type_f1)\n",
    "\n",
    "print(\"bill_amount Accuracy:\", bill_amount_accuracy)\n",
    "print(\"bill_amount Precision:\", bill_amount_precision)\n",
    "print(\"bill_amount Recall:\", bill_amount_recall)\n",
    "print(\"bill_amount F1-Score:\", bill_amount_f1)\n",
    "\n",
    "print(\"bill_date Accuracy:\", bill_date_accuracy)\n",
    "print(\"bill_date Precision:\", bill_date_precision)\n",
    "print(\"bill_date Recall:\", bill_date_recall)\n",
    "print(\"bill_date F1-Score:\", bill_date_f1)\n"
   ]
  },
  {
   "cell_type": "code",
   "execution_count": 13,
   "metadata": {},
   "outputs": [
    {
     "name": "stdout",
     "output_type": "stream",
     "text": [
      "bill_date Accuracy: 1.0\n"
     ]
    }
   ],
   "source": [
    "# Create a list to store the text similarity scores\n",
    "text_similarity_scores = []\n",
    "\n",
    "# Iterate through the rows in your DataFrames\n",
    "for index, row in merged_data.iterrows():\n",
    "    correct_date = row['bill_date_correct']\n",
    "    extracted_date = row['bill_date_extracted']\n",
    "    \n",
    "    # Calculate text similarity score (adjust the threshold as needed)\n",
    "    similarity_score = text_similarity(correct_date, extracted_date)\n",
    "    \n",
    "    # Append the similarity score to the list\n",
    "    text_similarity_scores.append(similarity_score)\n",
    "\n",
    "# Calculate an accuracy metric based on the similarity scores\n",
    "# For example, you can consider dates with a similarity score above a threshold as correct\n",
    "threshold = 90  # Adjust the threshold as needed\n",
    "correct_count = sum(1 for score in text_similarity_scores if score >= threshold)\n",
    "total_count = len(text_similarity_scores)\n",
    "accuracy = correct_count / total_count\n",
    "\n",
    "# Print the accuracy\n",
    "print(\"bill_date Accuracy:\", accuracy)"
   ]
  },
  {
   "cell_type": "code",
   "execution_count": null,
   "metadata": {},
   "outputs": [],
   "source": []
  }
 ],
 "metadata": {
  "kernelspec": {
   "display_name": "dl",
   "language": "python",
   "name": "python3"
  },
  "language_info": {
   "codemirror_mode": {
    "name": "ipython",
    "version": 3
   },
   "file_extension": ".py",
   "mimetype": "text/x-python",
   "name": "python",
   "nbconvert_exporter": "python",
   "pygments_lexer": "ipython3",
   "version": "3.8.18"
  }
 },
 "nbformat": 4,
 "nbformat_minor": 2
}
