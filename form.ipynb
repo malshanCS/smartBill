{
 "cells": [
  {
   "cell_type": "code",
   "execution_count": 58,
   "metadata": {},
   "outputs": [],
   "source": [
    "import json\n",
    "from azure.core.exceptions import ResourceNotFoundError\n",
    "from azure.core.credentials import AzureKeyCredential\n",
    "from azure.ai.formrecognizer import FormRecognizerClient\n",
    "import mimetypes \n",
    "import os\n",
    "import pandas as pd"
   ]
  },
  {
   "cell_type": "code",
   "execution_count": 59,
   "metadata": {},
   "outputs": [],
   "source": [
    "credentials = json.load(open('credentials.json'))\n",
    "API_KEY = credentials['API_KEY']\n",
    "ENDPOINT = credentials['ENDPOINT']\n",
    "\n",
    "form_recognizer_client = FormRecognizerClient(ENDPOINT,AzureKeyCredential(API_KEY))"
   ]
  },
  {
   "cell_type": "code",
   "execution_count": 60,
   "metadata": {},
   "outputs": [],
   "source": [
    "csv_file = 'files/output_form.csv'\n",
    "if not os.path.isfile(csv_file):\n",
    "    # Create an empty DataFrame to store the results\n",
    "    df = pd.DataFrame(columns=['img_path', 'bill_type', 'bill_date', 'bill_amount'])\n",
    "    df.to_csv(csv_file, index=False)\n",
    "else:\n",
    "    # If the file exists, append the data to the DataFrame\n",
    "    df = pd.read_csv(csv_file)"
   ]
  },
  {
   "cell_type": "code",
   "execution_count": 61,
   "metadata": {},
   "outputs": [
    {
     "name": "stdout",
     "output_type": "stream",
     "text": [
      "{'test_images/1052-receipt.jpg', 'test_images/1056-receipt.jpg', 'test_images/1042-receipt.jpg', 'test_images/1053-receipt.jpg', 'test_images/1010-receipt.jpg', 'test_images/1008-receipt.jpg', 'test_images/1006-receipt.jpg', 'test_images/1029-receipt.jpg', 'test_images/1004-receipt.jpg', 'test_images/1041-receipt.jpg', 'test_images/1036-receipt.jpg', 'test_images/1000-receipt.jpg', 'test_images/1023-receipt.jpg', 'test_images/1066-receipt.jpg', 'test_images/1077-receipt.jpg', 'test_images/1009-receipt.jpg', 'test_images/1001-receipt.jpg', 'test_images/1060-receipt.jpg'}\n"
     ]
    }
   ],
   "source": [
    "# Set the folder path containing the images\n",
    "folder_path = \"test_images/\"\n",
    "processed_images = set(df['img_path'])\n",
    "print(processed_images)\n",
    "\n",
    "\n",
    "# Loop through all the files in the folder\n",
    "for filename in os.listdir(folder_path):\n",
    "    if filename.lower().endswith((\".jpg\", \".jpeg\", \".png\")):\n",
    "        img_path = os.path.join(folder_path, filename)\n",
    "\n",
    "        if img_path not in processed_images:\n",
    "            with open(img_path, \"rb\") as image_file:\n",
    "                name = \"\"\n",
    "                total = 0\n",
    "                date = \"\"\n",
    "                content_type, _ = mimetypes.guess_type(img_path)\n",
    "\n",
    "                poller = form_recognizer_client.begin_recognize_receipts(image_file, content_type=content_type)\n",
    "\n",
    "                results = poller.result()\n",
    "\n",
    "                for receipt in results:\n",
    "                    for name, field in receipt.fields.items():\n",
    "                        if name == 'Total':\n",
    "                            total = field.value\n",
    "                        elif name == 'TransactionDate':\n",
    "                            date = field.value\n",
    "                        elif name == 'ReceiptType':\n",
    "                            bill_type = field.value\n",
    "\n",
    "                new_row = {'img_path': img_path, 'bill_type': bill_type, 'bill_date': date, 'bill_amount': total}\n",
    "                df.loc[len(df)] = new_row\n",
    "                processed_images.add(img_path)"
   ]
  },
  {
   "cell_type": "code",
   "execution_count": 62,
   "metadata": {},
   "outputs": [],
   "source": [
    "# df"
   ]
  },
  {
   "cell_type": "code",
   "execution_count": 63,
   "metadata": {},
   "outputs": [],
   "source": [
    "# save the df as a csv file\n",
    "df.to_csv('files/output.csv', index=False)"
   ]
  }
 ],
 "metadata": {
  "kernelspec": {
   "display_name": "dl",
   "language": "python",
   "name": "python3"
  },
  "language_info": {
   "codemirror_mode": {
    "name": "ipython",
    "version": 3
   },
   "file_extension": ".py",
   "mimetype": "text/x-python",
   "name": "python",
   "nbconvert_exporter": "python",
   "pygments_lexer": "ipython3",
   "version": "3.8.18"
  }
 },
 "nbformat": 4,
 "nbformat_minor": 2
}
