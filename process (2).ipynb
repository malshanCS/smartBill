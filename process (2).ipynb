{
  "cells": [
    {
      "cell_type": "code",
      "execution_count": 2,
      "metadata": {
        "id": "29tI85OoylPk"
      },
      "outputs": [],
      "source": [
        "from datetime import datetime\n",
        "import csv\n",
        "import pandas as pd\n",
        "import os"
      ]
    },
    {
      "cell_type": "code",
      "execution_count": 12,
      "metadata": {
        "id": "8PwgIu_CylPn"
      },
      "outputs": [],
      "source": [
        "csv_file = '/content/drive/MyDrive/Project/Smart Bill Analyzer/isp.csv'\n",
        "if not os.path.isfile(csv_file):\n",
        "    # If the file doesn't exist, create it with a header\n",
        "    df = pd.DataFrame(columns=['image_path', 'ISP', 'date', 'amount'])\n",
        "    df.to_csv(csv_file, index=False)\n",
        "else:\n",
        "    # If the file exists, append the data to the DataFrame\n",
        "    df = pd.read_csv(csv_file)"
      ]
    },
    {
      "cell_type": "code",
      "execution_count": 4,
      "metadata": {
        "id": "tQ0y3thVylPn"
      },
      "outputs": [],
      "source": [
        "def convert_date(date_str):\n",
        "    try:\n",
        "        # Attempt to parse the date in \"month/day/year\" format\n",
        "        date_obj = datetime.strptime(date_str, \"%d/%m/%Y\")\n",
        "        # Convert it to \"year-month-day\" format\n",
        "        return date_obj.strftime(\"%Y-%m-%d\")\n",
        "    except ValueError:\n",
        "        # If the date is already in \"year-month-day\" format or is not a valid date, return it as is\n",
        "        return date_str"
      ]
    },
    {
      "cell_type": "code",
      "execution_count": 5,
      "metadata": {
        "id": "2VMGrRIJylPn"
      },
      "outputs": [],
      "source": [
        "folder_path = '/content/drive/MyDrive/Project/Smart Bill Analyzer/ISP'\n",
        "\n",
        "# Get a list of all files in the folder\n",
        "file_list = os.listdir(folder_path)\n",
        "\n",
        "\n",
        "# Filter the list to keep only image files (you can add more extensions if needed)\n",
        "image_extensions = ['.jpg', '.jpeg', '.png', '.gif', '.bmp']\n",
        "image_files = [f for f in file_list if any(f.lower().endswith(ext) for ext in image_extensions)]\n"
      ]
    },
    {
      "cell_type": "code",
      "execution_count": 6,
      "metadata": {
        "colab": {
          "base_uri": "https://localhost:8080/"
        },
        "id": "F61gItQI1I5U",
        "outputId": "57e9d1b8-48ab-4cd7-f069-075ef47c8193"
      },
      "outputs": [
        {
          "name": "stdout",
          "output_type": "stream",
          "text": [
            "Requirement already satisfied: azure-ai-formrecognizer==3.3.0 in /usr/local/lib/python3.10/dist-packages (3.3.0)\n",
            "Requirement already satisfied: azure-core<2.0.0,>=1.23.0 in /usr/local/lib/python3.10/dist-packages (from azure-ai-formrecognizer==3.3.0) (1.29.5)\n",
            "Requirement already satisfied: msrest>=0.6.21 in /usr/local/lib/python3.10/dist-packages (from azure-ai-formrecognizer==3.3.0) (0.7.1)\n",
            "Requirement already satisfied: azure-common~=1.1 in /usr/local/lib/python3.10/dist-packages (from azure-ai-formrecognizer==3.3.0) (1.1.28)\n",
            "Requirement already satisfied: typing-extensions>=4.0.1 in /usr/local/lib/python3.10/dist-packages (from azure-ai-formrecognizer==3.3.0) (4.8.0)\n",
            "Requirement already satisfied: requests>=2.18.4 in /usr/local/lib/python3.10/dist-packages (from azure-core<2.0.0,>=1.23.0->azure-ai-formrecognizer==3.3.0) (2.31.0)\n",
            "Requirement already satisfied: six>=1.11.0 in /usr/local/lib/python3.10/dist-packages (from azure-core<2.0.0,>=1.23.0->azure-ai-formrecognizer==3.3.0) (1.16.0)\n",
            "Requirement already satisfied: certifi>=2017.4.17 in /usr/local/lib/python3.10/dist-packages (from msrest>=0.6.21->azure-ai-formrecognizer==3.3.0) (2023.7.22)\n",
            "Requirement already satisfied: isodate>=0.6.0 in /usr/local/lib/python3.10/dist-packages (from msrest>=0.6.21->azure-ai-formrecognizer==3.3.0) (0.6.1)\n",
            "Requirement already satisfied: requests-oauthlib>=0.5.0 in /usr/local/lib/python3.10/dist-packages (from msrest>=0.6.21->azure-ai-formrecognizer==3.3.0) (1.3.1)\n",
            "Requirement already satisfied: charset-normalizer<4,>=2 in /usr/local/lib/python3.10/dist-packages (from requests>=2.18.4->azure-core<2.0.0,>=1.23.0->azure-ai-formrecognizer==3.3.0) (3.3.0)\n",
            "Requirement already satisfied: idna<4,>=2.5 in /usr/local/lib/python3.10/dist-packages (from requests>=2.18.4->azure-core<2.0.0,>=1.23.0->azure-ai-formrecognizer==3.3.0) (3.4)\n",
            "Requirement already satisfied: urllib3<3,>=1.21.1 in /usr/local/lib/python3.10/dist-packages (from requests>=2.18.4->azure-core<2.0.0,>=1.23.0->azure-ai-formrecognizer==3.3.0) (2.0.7)\n",
            "Requirement already satisfied: oauthlib>=3.0.0 in /usr/local/lib/python3.10/dist-packages (from requests-oauthlib>=0.5.0->msrest>=0.6.21->azure-ai-formrecognizer==3.3.0) (3.2.2)\n"
          ]
        }
      ],
      "source": [
        "pip install azure-ai-formrecognizer==3.3.0"
      ]
    },
    {
      "cell_type": "code",
      "execution_count": 7,
      "metadata": {
        "id": "HeIrMYDMzbU4"
      },
      "outputs": [],
      "source": [
        "from azure.core.credentials import AzureKeyCredential\n",
        "from azure.ai.formrecognizer import DocumentAnalysisClient\n",
        "\n",
        "\"\"\"\n",
        "Remember to remove the key from your code when you're done, and never post it publicly. For production, use\n",
        "secure methods to store and access your credentials. For more information, see\n",
        "https://docs.microsoft.com/en-us/azure/cognitive-services/cognitive-services-security?tabs=command-line%2Ccsharp#environment-variables-and-application-configuration\n",
        "\"\"\"\n",
        "\n",
        "endpoint = \"https://thilakna-doc-intelligence-instance.cognitiveservices.azure.com/\"\n",
        "key = \"29579bf5af1f4559bb8228d643e79d7b\"\n",
        "model_id = \"ISP-M1\"\n",
        "\n",
        "# Initialize the DocumentAnalysisClient\n",
        "document_analysis_client = DocumentAnalysisClient(\n",
        "    endpoint=endpoint, credential=AzureKeyCredential(key)\n",
        ")"
      ]
    },
    {
      "cell_type": "code",
      "execution_count": null,
      "metadata": {
        "id": "x_h1bBgUylPo"
      },
      "outputs": [],
      "source": [
        "# Loop through the image files and open each one\n",
        "for image_file in image_files:\n",
        "    # Construct the full path to the image file\n",
        "    image_path = os.path.join(folder_path, image_file)\n",
        "    # if image_path in df['image_path'].tolist():\n",
        "    #     print(f\"Skipping image {image_file} as it's already in the DataFrame.\")\n",
        "    #     continue\n",
        "\n",
        "\n",
        "    try:\n",
        "      # Analyze the document using the custom model\n",
        "      with open(image_path, \"rb\") as document:\n",
        "        poller = document_analysis_client.begin_analyze_document(model_id, document)\n",
        "      result = poller.result()\n",
        "            # Process the analysis results as before\n",
        "      for idx, document in enumerate(result.documents):\n",
        "          data = []\n",
        "          for name, field in document.fields.items():\n",
        "              field_value = field.value if field.value else field.content\n",
        "              data.append(field_value)\n",
        "\n",
        "          # Append the data to the existing CSV file\n",
        "          data_dict = {\n",
        "              \"image_path\": [image_path],\n",
        "              \"date\":[data[2]],  # Adjust the index to match the data\n",
        "              \"amount\": [data[0]],  # Adjust the index to match the data\n",
        "              \"isp\": [data[1]],  # Adjust the index to match the data\n",
        "          }\n",
        "          df = pd.DataFrame(data_dict)\n",
        "          df.to_csv('/content/drive/MyDrive/Project/Smart Bill Analyzer/isp.csv', mode='a', header=False, index=False)\n",
        "    except Exception as e:\n",
        "      print(e)\n",
        "\n"
      ]
    },
    {
      "cell_type": "code",
      "execution_count": 1,
      "metadata": {
        "colab": {
          "base_uri": "https://localhost:8080/"
        },
        "id": "XylOjmXZ0cFj",
        "outputId": "7d0880fc-0120-4aef-a330-813d37786290"
      },
      "outputs": [
        {
          "name": "stdout",
          "output_type": "stream",
          "text": [
            "Mounted at /content/drive\n"
          ]
        }
      ],
      "source": [
        "from google.colab import drive\n",
        "drive.mount('/content/drive')"
      ]
    },
    {
      "cell_type": "code",
      "execution_count": null,
      "metadata": {
        "id": "q1X7xUZHylPp"
      },
      "outputs": [],
      "source": [
        "df = pd.read_csv('../files/isp_data_2.csv')\n",
        "df"
      ]
    },
    {
      "cell_type": "code",
      "execution_count": null,
      "metadata": {
        "id": "Bt7he6OxylPp"
      },
      "outputs": [],
      "source": []
    }
  ],
  "metadata": {
    "colab": {
      "provenance": []
    },
    "kernelspec": {
      "display_name": "dl",
      "language": "python",
      "name": "python3"
    },
    "language_info": {
      "codemirror_mode": {
        "name": "ipython",
        "version": 3
      },
      "file_extension": ".py",
      "mimetype": "text/x-python",
      "name": "python",
      "nbconvert_exporter": "python",
      "pygments_lexer": "ipython3",
      "version": "3.8.18"
    },
    "orig_nbformat": 4
  },
  "nbformat": 4,
  "nbformat_minor": 0
}
