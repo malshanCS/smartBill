{
  "nbformat": 4,
  "nbformat_minor": 0,
  "metadata": {
    "colab": {
      "provenance": []
    },
    "kernelspec": {
      "name": "python3",
      "display_name": "Python 3"
    },
    "language_info": {
      "name": "python"
    }
  },
  "cells": [
    {
      "cell_type": "code",
      "execution_count": 1,
      "metadata": {
        "colab": {
          "base_uri": "https://localhost:8080/"
        },
        "id": "t2F7ouEEUfvE",
        "outputId": "7b9e7b0c-c5af-4d9e-f95e-a99ad6f037a1"
      },
      "outputs": [
        {
          "output_type": "stream",
          "name": "stdout",
          "text": [
            "Collecting azure-ai-formrecognizer==3.3.0\n",
            "  Downloading azure_ai_formrecognizer-3.3.0-py3-none-any.whl (297 kB)\n",
            "\u001b[2K     \u001b[90m━━━━━━━━━━━━━━━━━━━━━━━━━━━━━━━━━━━━━━━━\u001b[0m \u001b[32m297.8/297.8 kB\u001b[0m \u001b[31m2.7 MB/s\u001b[0m eta \u001b[36m0:00:00\u001b[0m\n",
            "\u001b[?25hCollecting azure-core<2.0.0,>=1.23.0 (from azure-ai-formrecognizer==3.3.0)\n",
            "  Downloading azure_core-1.29.5-py3-none-any.whl (192 kB)\n",
            "\u001b[2K     \u001b[90m━━━━━━━━━━━━━━━━━━━━━━━━━━━━━━━━━━━━━━━━\u001b[0m \u001b[32m192.4/192.4 kB\u001b[0m \u001b[31m18.1 MB/s\u001b[0m eta \u001b[36m0:00:00\u001b[0m\n",
            "\u001b[?25hCollecting msrest>=0.6.21 (from azure-ai-formrecognizer==3.3.0)\n",
            "  Downloading msrest-0.7.1-py3-none-any.whl (85 kB)\n",
            "\u001b[2K     \u001b[90m━━━━━━━━━━━━━━━━━━━━━━━━━━━━━━━━━━━━━━━━\u001b[0m \u001b[32m85.4/85.4 kB\u001b[0m \u001b[31m10.2 MB/s\u001b[0m eta \u001b[36m0:00:00\u001b[0m\n",
            "\u001b[?25hCollecting azure-common~=1.1 (from azure-ai-formrecognizer==3.3.0)\n",
            "  Downloading azure_common-1.1.28-py2.py3-none-any.whl (14 kB)\n",
            "Requirement already satisfied: typing-extensions>=4.0.1 in /usr/local/lib/python3.10/dist-packages (from azure-ai-formrecognizer==3.3.0) (4.5.0)\n",
            "Requirement already satisfied: requests>=2.18.4 in /usr/local/lib/python3.10/dist-packages (from azure-core<2.0.0,>=1.23.0->azure-ai-formrecognizer==3.3.0) (2.31.0)\n",
            "Requirement already satisfied: six>=1.11.0 in /usr/local/lib/python3.10/dist-packages (from azure-core<2.0.0,>=1.23.0->azure-ai-formrecognizer==3.3.0) (1.16.0)\n",
            "Collecting typing-extensions>=4.0.1 (from azure-ai-formrecognizer==3.3.0)\n",
            "  Downloading typing_extensions-4.8.0-py3-none-any.whl (31 kB)\n",
            "Requirement already satisfied: certifi>=2017.4.17 in /usr/local/lib/python3.10/dist-packages (from msrest>=0.6.21->azure-ai-formrecognizer==3.3.0) (2023.7.22)\n",
            "Collecting isodate>=0.6.0 (from msrest>=0.6.21->azure-ai-formrecognizer==3.3.0)\n",
            "  Downloading isodate-0.6.1-py2.py3-none-any.whl (41 kB)\n",
            "\u001b[2K     \u001b[90m━━━━━━━━━━━━━━━━━━━━━━━━━━━━━━━━━━━━━━━━\u001b[0m \u001b[32m41.7/41.7 kB\u001b[0m \u001b[31m4.4 MB/s\u001b[0m eta \u001b[36m0:00:00\u001b[0m\n",
            "\u001b[?25hRequirement already satisfied: requests-oauthlib>=0.5.0 in /usr/local/lib/python3.10/dist-packages (from msrest>=0.6.21->azure-ai-formrecognizer==3.3.0) (1.3.1)\n",
            "Requirement already satisfied: charset-normalizer<4,>=2 in /usr/local/lib/python3.10/dist-packages (from requests>=2.18.4->azure-core<2.0.0,>=1.23.0->azure-ai-formrecognizer==3.3.0) (3.3.0)\n",
            "Requirement already satisfied: idna<4,>=2.5 in /usr/local/lib/python3.10/dist-packages (from requests>=2.18.4->azure-core<2.0.0,>=1.23.0->azure-ai-formrecognizer==3.3.0) (3.4)\n",
            "Requirement already satisfied: urllib3<3,>=1.21.1 in /usr/local/lib/python3.10/dist-packages (from requests>=2.18.4->azure-core<2.0.0,>=1.23.0->azure-ai-formrecognizer==3.3.0) (2.0.7)\n",
            "Requirement already satisfied: oauthlib>=3.0.0 in /usr/local/lib/python3.10/dist-packages (from requests-oauthlib>=0.5.0->msrest>=0.6.21->azure-ai-formrecognizer==3.3.0) (3.2.2)\n",
            "Installing collected packages: azure-common, typing-extensions, isodate, azure-core, msrest, azure-ai-formrecognizer\n",
            "  Attempting uninstall: typing-extensions\n",
            "    Found existing installation: typing_extensions 4.5.0\n",
            "    Uninstalling typing_extensions-4.5.0:\n",
            "      Successfully uninstalled typing_extensions-4.5.0\n",
            "\u001b[31mERROR: pip's dependency resolver does not currently take into account all the packages that are installed. This behaviour is the source of the following dependency conflicts.\n",
            "tensorflow-probability 0.22.0 requires typing-extensions<4.6.0, but you have typing-extensions 4.8.0 which is incompatible.\u001b[0m\u001b[31m\n",
            "\u001b[0mSuccessfully installed azure-ai-formrecognizer-3.3.0 azure-common-1.1.28 azure-core-1.29.5 isodate-0.6.1 msrest-0.7.1 typing-extensions-4.8.0\n"
          ]
        }
      ],
      "source": [
        "pip install azure-ai-formrecognizer==3.3.0"
      ]
    },
    {
      "cell_type": "code",
      "source": [
        "import csv\n",
        "with open('/content/drive/MyDrive/Project/Smart Bill Analyzer/bills.csv', 'w', newline='') as file:\n",
        "    writer = csv.writer(file)\n",
        "    field = [\"image_path\",\"date\", \"amount\", \"type\"]\n",
        "#df = df.append({'image_path': image_path,'ISP':isp, 'date': billing_date, 'amount': total_charges}, ignore_index=True)"
      ],
      "metadata": {
        "id": "evtFxrkpqf86"
      },
      "execution_count": 7,
      "outputs": []
    },
    {
      "cell_type": "code",
      "source": [
        "from azure.core.credentials import AzureKeyCredential\n",
        "from azure.ai.formrecognizer import DocumentAnalysisClient\n",
        "import pandas as pd\n",
        "\n",
        "\"\"\"\n",
        "Remember to remove the key from your code when you're done, and never post it publicly. For production, use\n",
        "secure methods to store and access your credentials. For more information, see\n",
        "https://docs.microsoft.com/en-us/azure/cognitive-services/cognitive-services-security?tabs=command-line%2Ccsharp#environment-variables-and-application-configuration\n",
        "\"\"\"\n",
        "\n",
        "endpoint = \"https://thilakna-doc-intelligence-instance.cognitiveservices.azure.com/\"\n",
        "key = \"29579bf5af1f4559bb8228d643e79d7b\"\n",
        "model_id = \"Bills-1\"\n",
        "\n",
        "# Initialize the DocumentAnalysisClient\n",
        "document_analysis_client = DocumentAnalysisClient(\n",
        "    endpoint=endpoint, credential=AzureKeyCredential(key)\n",
        ")\n",
        "\n",
        "# Replace 'your_document.pdf' with the path to your local document file\n",
        "document_path = \"/content/drive/MyDrive/Project/Classifier_data/IMG_20231020_201003_824.jpg\"\n",
        "\n",
        "# Analyze the document using the custom model\n",
        "with open(document_path, \"rb\") as document:\n",
        "    poller = document_analysis_client.begin_analyze_document(\n",
        "        model_id, document\n",
        "    )\n",
        "\n",
        "result = poller.result()\n",
        "\n",
        "# Process the analysis results as before\n",
        "for idx, document in enumerate(result.documents):\n",
        "    # print(\"--------Analyzing document #{}--------\".format(idx + 1))\n",
        "    # print(\"Document has type {}\".format(document.doc_type))\n",
        "    # print(\"Document has confidence {}\".format(document.confidence))\n",
        "    # print(\"Document was analyzed by model with ID {}\".format(result.model_id))\n",
        "\n",
        "    data = []\n",
        "    for name, field in document.fields.items():\n",
        "        field_value = field.value if field.value else field.content\n",
        "        data.append(field_value)\n",
        "\n",
        "    # Append the data to the existing CSV file\n",
        "    print(data)\n",
        "    data_dict = {\n",
        "        \"image_path\": [document_path],\n",
        "        \"date\": [data[0]],  # Adjust the index to match the data\n",
        "        \"amount\": [data[1]],  # Adjust the index to match the data\n",
        "        \"type\": [data[2]],  # Adjust the index to match the data\n",
        "    }\n",
        "    df = pd.DataFrame(data_dict)\n",
        "    df.to_csv('/content/drive/MyDrive/Project/Smart Bill Analyzer/bills.csv', mode='a', header=False, index=False)\n",
        "\n",
        "\n",
        "\n",
        "\n",
        "# Process tables, lines, and selection marks on each page as before\n",
        "\n",
        "for page in result.pages:\n",
        "    # Process lines, words, and selection marks on each page\n",
        "    pass\n",
        "\n",
        "for i, table in enumerate(result.tables):\n",
        "    # Process table information as before\n",
        "    pass\n",
        "\n",
        "print(\"-----------------------------------\")\n"
      ],
      "metadata": {
        "colab": {
          "base_uri": "https://localhost:8080/"
        },
        "id": "pw3RqNZUYuv_",
        "outputId": "b2b33d43-5653-4327-c598-049128b4d1fa"
      },
      "execution_count": 13,
      "outputs": [
        {
          "output_type": "stream",
          "name": "stdout",
          "text": [
            "['at23-08-12', '7918.97', 'electricity']\n",
            "-----------------------------------\n"
          ]
        }
      ]
    },
    {
      "cell_type": "code",
      "source": [
        "from google.colab import drive\n",
        "drive.mount('/content/drive')"
      ],
      "metadata": {
        "colab": {
          "base_uri": "https://localhost:8080/"
        },
        "id": "MrJhIgapWO84",
        "outputId": "7281afde-2654-4ea9-b757-c530db67ad1a"
      },
      "execution_count": null,
      "outputs": [
        {
          "output_type": "stream",
          "name": "stdout",
          "text": [
            "Mounted at /content/drive\n"
          ]
        }
      ]
    }
  ]
}