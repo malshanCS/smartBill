{
 "cells": [
  {
   "cell_type": "code",
   "execution_count": 11,
   "metadata": {},
   "outputs": [],
   "source": [
    "import json\n",
    "from azure.core.exceptions import ResourceNotFoundError\n",
    "from azure.core.credentials import AzureKeyCredential\n",
    "from azure.ai.formrecognizer import FormRecognizerClient\n",
    "import mimetypes \n",
    "import os\n",
    "import pandas as pd"
   ]
  },
  {
   "cell_type": "code",
   "execution_count": 12,
   "metadata": {},
   "outputs": [],
   "source": [
    "credentials = json.load(open('credentials.json'))\n",
    "API_KEY = credentials['API_KEY']\n",
    "ENDPOINT = credentials['ENDPOINT']\n",
    "\n",
    "form_recognizer_client = FormRecognizerClient(ENDPOINT,AzureKeyCredential(API_KEY))"
   ]
  },
  {
   "cell_type": "code",
   "execution_count": 8,
   "metadata": {},
   "outputs": [],
   "source": [
    "csv_file = 'files/output_form.csv'\n",
    "if not os.path.isfile(csv_file):\n",
    "    # Create an empty DataFrame to store the results\n",
    "    df = pd.DataFrame(columns=['img_path', 'bill_type', 'bill_date', 'bill_amount'])\n",
    "    df.to_csv(csv_file, index=False)\n",
    "else:\n",
    "    # If the file exists, append the data to the DataFrame\n",
    "    df = pd.read_csv(csv_file)"
   ]
  },
  {
   "cell_type": "code",
   "execution_count": 10,
   "metadata": {},
   "outputs": [
    {
     "ename": "HttpResponseError",
     "evalue": "(InvalidImage) The input data is not a valid image or password protected.\nCode: InvalidImage\nMessage: The input data is not a valid image or password protected.",
     "output_type": "error",
     "traceback": [
      "\u001b[1;31m---------------------------------------------------------------------------\u001b[0m",
      "\u001b[1;31mHttpResponseError\u001b[0m                         Traceback (most recent call last)",
      "\u001b[1;32md:\\Semester 05\\Data Science and Engineering Project\\temp_azure\\receipt_script.ipynb Cell 4\u001b[0m line \u001b[0;36m1\n\u001b[0;32m     <a href='vscode-notebook-cell:/d%3A/Semester%2005/Data%20Science%20and%20Engineering%20Project/temp_azure/receipt_script.ipynb#W3sZmlsZQ%3D%3D?line=14'>15</a>\u001b[0m date \u001b[39m=\u001b[39m \u001b[39m\"\u001b[39m\u001b[39m\"\u001b[39m\n\u001b[0;32m     <a href='vscode-notebook-cell:/d%3A/Semester%2005/Data%20Science%20and%20Engineering%20Project/temp_azure/receipt_script.ipynb#W3sZmlsZQ%3D%3D?line=15'>16</a>\u001b[0m content_type, _ \u001b[39m=\u001b[39m mimetypes\u001b[39m.\u001b[39mguess_type(img_path)\n\u001b[1;32m---> <a href='vscode-notebook-cell:/d%3A/Semester%2005/Data%20Science%20and%20Engineering%20Project/temp_azure/receipt_script.ipynb#W3sZmlsZQ%3D%3D?line=17'>18</a>\u001b[0m poller \u001b[39m=\u001b[39m form_recognizer_client\u001b[39m.\u001b[39;49mbegin_recognize_receipts(image_file, content_type\u001b[39m=\u001b[39;49mcontent_type)\n\u001b[0;32m     <a href='vscode-notebook-cell:/d%3A/Semester%2005/Data%20Science%20and%20Engineering%20Project/temp_azure/receipt_script.ipynb#W3sZmlsZQ%3D%3D?line=19'>20</a>\u001b[0m results \u001b[39m=\u001b[39m poller\u001b[39m.\u001b[39mresult()\n\u001b[0;32m     <a href='vscode-notebook-cell:/d%3A/Semester%2005/Data%20Science%20and%20Engineering%20Project/temp_azure/receipt_script.ipynb#W3sZmlsZQ%3D%3D?line=21'>22</a>\u001b[0m \u001b[39mfor\u001b[39;00m receipt \u001b[39min\u001b[39;00m results:\n",
      "File \u001b[1;32mc:\\Users\\User\\anaconda3\\envs\\dl\\lib\\site-packages\\azure\\core\\tracing\\decorator.py:78\u001b[0m, in \u001b[0;36mdistributed_trace.<locals>.decorator.<locals>.wrapper_use_tracer\u001b[1;34m(*args, **kwargs)\u001b[0m\n\u001b[0;32m     76\u001b[0m span_impl_type \u001b[39m=\u001b[39m settings\u001b[39m.\u001b[39mtracing_implementation()\n\u001b[0;32m     77\u001b[0m \u001b[39mif\u001b[39;00m span_impl_type \u001b[39mis\u001b[39;00m \u001b[39mNone\u001b[39;00m:\n\u001b[1;32m---> 78\u001b[0m     \u001b[39mreturn\u001b[39;00m func(\u001b[39m*\u001b[39;49margs, \u001b[39m*\u001b[39;49m\u001b[39m*\u001b[39;49mkwargs)\n\u001b[0;32m     80\u001b[0m \u001b[39m# Merge span is parameter is set, but only if no explicit parent are passed\u001b[39;00m\n\u001b[0;32m     81\u001b[0m \u001b[39mif\u001b[39;00m merge_span \u001b[39mand\u001b[39;00m \u001b[39mnot\u001b[39;00m passed_in_parent:\n",
      "File \u001b[1;32mc:\\Users\\User\\anaconda3\\envs\\dl\\lib\\site-packages\\azure\\ai\\formrecognizer\\_form_recognizer_client.py:143\u001b[0m, in \u001b[0;36mFormRecognizerClient.begin_recognize_receipts\u001b[1;34m(self, receipt, **kwargs)\u001b[0m\n\u001b[0;32m    141\u001b[0m     \u001b[39melse\u001b[39;00m:\n\u001b[0;32m    142\u001b[0m         \u001b[39mraise\u001b[39;00m \u001b[39mValueError\u001b[39;00m(\u001b[39m\"\u001b[39m\u001b[39m'\u001b[39m\u001b[39mpages\u001b[39m\u001b[39m'\u001b[39m\u001b[39m is only available for API version V2_1 and up\u001b[39m\u001b[39m\"\u001b[39m)\n\u001b[1;32m--> 143\u001b[0m \u001b[39mreturn\u001b[39;00m \u001b[39mself\u001b[39;49m\u001b[39m.\u001b[39;49m_client\u001b[39m.\u001b[39;49mbegin_analyze_receipt_async(  \u001b[39m# type: ignore\u001b[39;49;00m\n\u001b[0;32m    144\u001b[0m     file_stream\u001b[39m=\u001b[39;49mreceipt,  \u001b[39m# type: ignore\u001b[39;49;00m\n\u001b[0;32m    145\u001b[0m     content_type\u001b[39m=\u001b[39;49mcontent_type,\n\u001b[0;32m    146\u001b[0m     include_text_details\u001b[39m=\u001b[39;49minclude_field_elements,\n\u001b[0;32m    147\u001b[0m     \u001b[39mcls\u001b[39;49m\u001b[39m=\u001b[39;49m\u001b[39mcls\u001b[39;49m,\n\u001b[0;32m    148\u001b[0m     polling\u001b[39m=\u001b[39;49m\u001b[39mTrue\u001b[39;49;00m,\n\u001b[0;32m    149\u001b[0m     \u001b[39m*\u001b[39;49m\u001b[39m*\u001b[39;49mkwargs\n\u001b[0;32m    150\u001b[0m )\n",
      "File \u001b[1;32mc:\\Users\\User\\anaconda3\\envs\\dl\\lib\\site-packages\\azure\\ai\\formrecognizer\\_generated\\_operations_mixin.py:426\u001b[0m, in \u001b[0;36mFormRecognizerClientOperationsMixin.begin_analyze_receipt_async\u001b[1;34m(self, include_text_details, locale, pages, file_stream, **kwargs)\u001b[0m\n\u001b[0;32m    424\u001b[0m     \u001b[39mreturn\u001b[39;00m mixin_instance\u001b[39m.\u001b[39mbegin_analyze_receipt_async(include_text_details, file_stream, \u001b[39m*\u001b[39m\u001b[39m*\u001b[39mkwargs)\n\u001b[0;32m    425\u001b[0m \u001b[39melif\u001b[39;00m api_version \u001b[39m==\u001b[39m \u001b[39m'\u001b[39m\u001b[39m2.1\u001b[39m\u001b[39m'\u001b[39m:\n\u001b[1;32m--> 426\u001b[0m     \u001b[39mreturn\u001b[39;00m mixin_instance\u001b[39m.\u001b[39;49mbegin_analyze_receipt_async(include_text_details, locale, pages, file_stream, \u001b[39m*\u001b[39;49m\u001b[39m*\u001b[39;49mkwargs)\n",
      "File \u001b[1;32mc:\\Users\\User\\anaconda3\\envs\\dl\\lib\\site-packages\\azure\\core\\tracing\\decorator.py:78\u001b[0m, in \u001b[0;36mdistributed_trace.<locals>.decorator.<locals>.wrapper_use_tracer\u001b[1;34m(*args, **kwargs)\u001b[0m\n\u001b[0;32m     76\u001b[0m span_impl_type \u001b[39m=\u001b[39m settings\u001b[39m.\u001b[39mtracing_implementation()\n\u001b[0;32m     77\u001b[0m \u001b[39mif\u001b[39;00m span_impl_type \u001b[39mis\u001b[39;00m \u001b[39mNone\u001b[39;00m:\n\u001b[1;32m---> 78\u001b[0m     \u001b[39mreturn\u001b[39;00m func(\u001b[39m*\u001b[39;49margs, \u001b[39m*\u001b[39;49m\u001b[39m*\u001b[39;49mkwargs)\n\u001b[0;32m     80\u001b[0m \u001b[39m# Merge span is parameter is set, but only if no explicit parent are passed\u001b[39;00m\n\u001b[0;32m     81\u001b[0m \u001b[39mif\u001b[39;00m merge_span \u001b[39mand\u001b[39;00m \u001b[39mnot\u001b[39;00m passed_in_parent:\n",
      "File \u001b[1;32mc:\\Users\\User\\anaconda3\\envs\\dl\\lib\\site-packages\\azure\\ai\\formrecognizer\\_generated\\v2_1\\operations\\_form_recognizer_client_operations.py:2420\u001b[0m, in \u001b[0;36mFormRecognizerClientOperationsMixin.begin_analyze_receipt_async\u001b[1;34m(self, include_text_details, locale, pages, file_stream, content_type, **kwargs)\u001b[0m\n\u001b[0;32m   2418\u001b[0m cont_token \u001b[39m=\u001b[39m kwargs\u001b[39m.\u001b[39mpop(\u001b[39m'\u001b[39m\u001b[39mcontinuation_token\u001b[39m\u001b[39m'\u001b[39m, \u001b[39mNone\u001b[39;00m)  \u001b[39m# type: Optional[str]\u001b[39;00m\n\u001b[0;32m   2419\u001b[0m \u001b[39mif\u001b[39;00m cont_token \u001b[39mis\u001b[39;00m \u001b[39mNone\u001b[39;00m:\n\u001b[1;32m-> 2420\u001b[0m     raw_result \u001b[39m=\u001b[39m \u001b[39mself\u001b[39;49m\u001b[39m.\u001b[39;49m_analyze_receipt_async_initial(  \u001b[39m# type: ignore\u001b[39;49;00m\n\u001b[0;32m   2421\u001b[0m         include_text_details\u001b[39m=\u001b[39;49minclude_text_details,\n\u001b[0;32m   2422\u001b[0m         locale\u001b[39m=\u001b[39;49mlocale,\n\u001b[0;32m   2423\u001b[0m         pages\u001b[39m=\u001b[39;49mpages,\n\u001b[0;32m   2424\u001b[0m         file_stream\u001b[39m=\u001b[39;49mfile_stream,\n\u001b[0;32m   2425\u001b[0m         content_type\u001b[39m=\u001b[39;49mcontent_type,\n\u001b[0;32m   2426\u001b[0m         \u001b[39mcls\u001b[39;49m\u001b[39m=\u001b[39;49m\u001b[39mlambda\u001b[39;49;00m x,y,z: x,\n\u001b[0;32m   2427\u001b[0m         headers\u001b[39m=\u001b[39;49m_headers,\n\u001b[0;32m   2428\u001b[0m         params\u001b[39m=\u001b[39;49m_params,\n\u001b[0;32m   2429\u001b[0m         \u001b[39m*\u001b[39;49m\u001b[39m*\u001b[39;49mkwargs\n\u001b[0;32m   2430\u001b[0m     )\n\u001b[0;32m   2431\u001b[0m kwargs\u001b[39m.\u001b[39mpop(\u001b[39m'\u001b[39m\u001b[39merror_map\u001b[39m\u001b[39m'\u001b[39m, \u001b[39mNone\u001b[39;00m)\n\u001b[0;32m   2433\u001b[0m \u001b[39mdef\u001b[39;00m \u001b[39mget_long_running_output\u001b[39m(pipeline_response):\n",
      "File \u001b[1;32mc:\\Users\\User\\anaconda3\\envs\\dl\\lib\\site-packages\\azure\\ai\\formrecognizer\\_generated\\v2_1\\operations\\_form_recognizer_client_operations.py:2350\u001b[0m, in \u001b[0;36mFormRecognizerClientOperationsMixin._analyze_receipt_async_initial\u001b[1;34m(self, include_text_details, locale, pages, file_stream, content_type, **kwargs)\u001b[0m\n\u001b[0;32m   2348\u001b[0m \u001b[39mif\u001b[39;00m response\u001b[39m.\u001b[39mstatus_code \u001b[39mnot\u001b[39;00m \u001b[39min\u001b[39;00m [\u001b[39m202\u001b[39m]:\n\u001b[0;32m   2349\u001b[0m     map_error(status_code\u001b[39m=\u001b[39mresponse\u001b[39m.\u001b[39mstatus_code, response\u001b[39m=\u001b[39mresponse, error_map\u001b[39m=\u001b[39merror_map)\n\u001b[1;32m-> 2350\u001b[0m     \u001b[39mraise\u001b[39;00m HttpResponseError(response\u001b[39m=\u001b[39mresponse)\n\u001b[0;32m   2352\u001b[0m response_headers \u001b[39m=\u001b[39m {}\n\u001b[0;32m   2353\u001b[0m response_headers[\u001b[39m'\u001b[39m\u001b[39mOperation-Location\u001b[39m\u001b[39m'\u001b[39m]\u001b[39m=\u001b[39m\u001b[39mself\u001b[39m\u001b[39m.\u001b[39m_deserialize(\u001b[39m'\u001b[39m\u001b[39mstr\u001b[39m\u001b[39m'\u001b[39m, response\u001b[39m.\u001b[39mheaders\u001b[39m.\u001b[39mget(\u001b[39m'\u001b[39m\u001b[39mOperation-Location\u001b[39m\u001b[39m'\u001b[39m))\n",
      "\u001b[1;31mHttpResponseError\u001b[0m: (InvalidImage) The input data is not a valid image or password protected.\nCode: InvalidImage\nMessage: The input data is not a valid image or password protected."
     ]
    }
   ],
   "source": [
    "# Set the folder path containing the images\n",
    "folder_path = \"receipt_images/\"\n",
    "processed_images = set(df['img_path'])\n",
    "\n",
    "\n",
    "# Loop through all the files in the folder\n",
    "for filename in os.listdir(folder_path):\n",
    "    if filename.lower().endswith((\".jpg\", \".jpeg\", \".png\")):\n",
    "        img_path = os.path.join(folder_path, filename)\n",
    "\n",
    "        if img_path not in processed_images:\n",
    "            with open(img_path, \"rb\") as image_file:\n",
    "                name = \"\"\n",
    "                total = 0\n",
    "                date = \"\"\n",
    "                content_type, _ = mimetypes.guess_type(img_path)\n",
    "\n",
    "                poller = form_recognizer_client.begin_recognize_receipts(image_file, content_type=content_type)\n",
    "\n",
    "                results = poller.result()\n",
    "\n",
    "                for receipt in results:\n",
    "                    for name, field in receipt.fields.items():\n",
    "                        if name == 'Total':\n",
    "                            total = field.value\n",
    "                        elif name == 'TransactionDate':\n",
    "                            date = field.value\n",
    "                        elif name == 'ReceiptType':\n",
    "                            bill_type = field.value\n",
    "\n",
    "                new_row = {'img_path': img_path, 'bill_type': bill_type, 'bill_date': date, 'bill_amount': total}\n",
    "                df.loc[len(df)] = new_row\n",
    "                processed_images.add(img_path)"
   ]
  },
  {
   "cell_type": "code",
   "execution_count": null,
   "metadata": {},
   "outputs": [],
   "source": []
  },
  {
   "cell_type": "code",
   "execution_count": null,
   "metadata": {},
   "outputs": [],
   "source": [
    "# save the df as a csv file\n",
    "df.to_csv('files/output.csv', index=False)"
   ]
  }
 ],
 "metadata": {
  "kernelspec": {
   "display_name": "dl",
   "language": "python",
   "name": "python3"
  },
  "language_info": {
   "codemirror_mode": {
    "name": "ipython",
    "version": 3
   },
   "file_extension": ".py",
   "mimetype": "text/x-python",
   "name": "python",
   "nbconvert_exporter": "python",
   "pygments_lexer": "ipython3",
   "version": "3.8.18"
  }
 },
 "nbformat": 4,
 "nbformat_minor": 2
}
