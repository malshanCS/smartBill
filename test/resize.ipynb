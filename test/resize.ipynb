{
 "cells": [
  {
   "cell_type": "code",
   "execution_count": 4,
   "metadata": {},
   "outputs": [],
   "source": [
    "from PIL import Image"
   ]
  },
  {
   "cell_type": "code",
   "execution_count": 2,
   "metadata": {},
   "outputs": [],
   "source": [
    "def resize_image(in_image_path,image_path, max_size=4 * 1024 * 1024):\n",
    "    # Open the image\n",
    "    original_image = Image.open(in_image_path)\n",
    "\n",
    "    # Get the original image dimensions\n",
    "    original_width, original_height = original_image.size\n",
    "\n",
    "    # Calculate the new width and height to reduce the size\n",
    "    new_width = original_width\n",
    "    new_height = original_height\n",
    "\n",
    "    while new_width * new_height * original_image.mode.bit_length() > max_size:\n",
    "        new_width = int(new_width * 0.9)\n",
    "        new_height = int(new_height * 0.9)\n",
    "\n",
    "    # Resize the image\n",
    "    resized_image = original_image.resize((new_width, new_height), Image.ANTIALIAS)\n",
    "\n",
    "    # Save the resized image\n",
    "    resized_image.save(image_path)"
   ]
  },
  {
   "cell_type": "code",
   "execution_count": 5,
   "metadata": {},
   "outputs": [
    {
     "ename": "AttributeError",
     "evalue": "'str' object has no attribute 'bit_length'",
     "output_type": "error",
     "traceback": [
      "\u001b[1;31m---------------------------------------------------------------------------\u001b[0m",
      "\u001b[1;31mAttributeError\u001b[0m                            Traceback (most recent call last)",
      "\u001b[1;32md:\\Semester 05\\Data Science and Engineering Project\\temp_azure\\test\\resize.ipynb Cell 3\u001b[0m line \u001b[0;36m3\n\u001b[0;32m      <a href='vscode-notebook-cell:/d%3A/Semester%2005/Data%20Science%20and%20Engineering%20Project/temp_azure/test/resize.ipynb#W2sZmlsZQ%3D%3D?line=0'>1</a>\u001b[0m \u001b[39m# test the function\u001b[39;00m\n\u001b[0;32m      <a href='vscode-notebook-cell:/d%3A/Semester%2005/Data%20Science%20and%20Engineering%20Project/temp_azure/test/resize.ipynb#W2sZmlsZQ%3D%3D?line=1'>2</a>\u001b[0m max_size \u001b[39m=\u001b[39m \u001b[39m4\u001b[39m \u001b[39m*\u001b[39m \u001b[39m1024\u001b[39m \u001b[39m*\u001b[39m \u001b[39m1024\u001b[39m \u001b[39m# 4MB\u001b[39;00m\n\u001b[1;32m----> <a href='vscode-notebook-cell:/d%3A/Semester%2005/Data%20Science%20and%20Engineering%20Project/temp_azure/test/resize.ipynb#W2sZmlsZQ%3D%3D?line=2'>3</a>\u001b[0m resize_image(\u001b[39m'\u001b[39;49m\u001b[39m../invoice_images/1000-receipt.jpg\u001b[39;49m\u001b[39m'\u001b[39;49m, \u001b[39m'\u001b[39;49m\u001b[39m../test/1000-receipt.jpg\u001b[39;49m\u001b[39m'\u001b[39;49m, max_size)\n",
      "\u001b[1;32md:\\Semester 05\\Data Science and Engineering Project\\temp_azure\\test\\resize.ipynb Cell 3\u001b[0m line \u001b[0;36m1\n\u001b[0;32m      <a href='vscode-notebook-cell:/d%3A/Semester%2005/Data%20Science%20and%20Engineering%20Project/temp_azure/test/resize.ipynb#W2sZmlsZQ%3D%3D?line=8'>9</a>\u001b[0m new_width \u001b[39m=\u001b[39m original_width\n\u001b[0;32m     <a href='vscode-notebook-cell:/d%3A/Semester%2005/Data%20Science%20and%20Engineering%20Project/temp_azure/test/resize.ipynb#W2sZmlsZQ%3D%3D?line=9'>10</a>\u001b[0m new_height \u001b[39m=\u001b[39m original_height\n\u001b[1;32m---> <a href='vscode-notebook-cell:/d%3A/Semester%2005/Data%20Science%20and%20Engineering%20Project/temp_azure/test/resize.ipynb#W2sZmlsZQ%3D%3D?line=11'>12</a>\u001b[0m \u001b[39mwhile\u001b[39;00m new_width \u001b[39m*\u001b[39m new_height \u001b[39m*\u001b[39m original_image\u001b[39m.\u001b[39;49mmode\u001b[39m.\u001b[39;49mbit_length() \u001b[39m>\u001b[39m max_size:\n\u001b[0;32m     <a href='vscode-notebook-cell:/d%3A/Semester%2005/Data%20Science%20and%20Engineering%20Project/temp_azure/test/resize.ipynb#W2sZmlsZQ%3D%3D?line=12'>13</a>\u001b[0m     new_width \u001b[39m=\u001b[39m \u001b[39mint\u001b[39m(new_width \u001b[39m*\u001b[39m \u001b[39m0.9\u001b[39m)\n\u001b[0;32m     <a href='vscode-notebook-cell:/d%3A/Semester%2005/Data%20Science%20and%20Engineering%20Project/temp_azure/test/resize.ipynb#W2sZmlsZQ%3D%3D?line=13'>14</a>\u001b[0m     new_height \u001b[39m=\u001b[39m \u001b[39mint\u001b[39m(new_height \u001b[39m*\u001b[39m \u001b[39m0.9\u001b[39m)\n",
      "\u001b[1;31mAttributeError\u001b[0m: 'str' object has no attribute 'bit_length'"
     ]
    }
   ],
   "source": [
    "# test the function\n",
    "max_size = 4 * 1024 * 1024 # 4MB\n",
    "resize_image('../invoice_images/1000-receipt.jpg', '../test/1000-receipt.jpg', max_size)"
   ]
  },
  {
   "cell_type": "code",
   "execution_count": 10,
   "metadata": {},
   "outputs": [
    {
     "ename": "ValueError",
     "evalue": "unknown file extension: ",
     "output_type": "error",
     "traceback": [
      "\u001b[1;31m---------------------------------------------------------------------------\u001b[0m",
      "\u001b[1;31mKeyError\u001b[0m                                  Traceback (most recent call last)",
      "File \u001b[1;32mc:\\Users\\User\\anaconda3\\envs\\dl\\lib\\site-packages\\PIL\\Image.py:2390\u001b[0m, in \u001b[0;36mImage.save\u001b[1;34m(self, fp, format, **params)\u001b[0m\n\u001b[0;32m   2389\u001b[0m \u001b[39mtry\u001b[39;00m:\n\u001b[1;32m-> 2390\u001b[0m     \u001b[39mformat\u001b[39m \u001b[39m=\u001b[39m EXTENSION[ext]\n\u001b[0;32m   2391\u001b[0m \u001b[39mexcept\u001b[39;00m \u001b[39mKeyError\u001b[39;00m \u001b[39mas\u001b[39;00m e:\n",
      "\u001b[1;31mKeyError\u001b[0m: ''",
      "\nThe above exception was the direct cause of the following exception:\n",
      "\u001b[1;31mValueError\u001b[0m                                Traceback (most recent call last)",
      "\u001b[1;32md:\\Semester 05\\Data Science and Engineering Project\\temp_azure\\test\\resize.ipynb Cell 4\u001b[0m line \u001b[0;36m2\n\u001b[0;32m     <a href='vscode-notebook-cell:/d%3A/Semester%2005/Data%20Science%20and%20Engineering%20Project/temp_azure/test/resize.ipynb#W3sZmlsZQ%3D%3D?line=26'>27</a>\u001b[0m \u001b[39m# Test the function\u001b[39;00m\n\u001b[0;32m     <a href='vscode-notebook-cell:/d%3A/Semester%2005/Data%20Science%20and%20Engineering%20Project/temp_azure/test/resize.ipynb#W3sZmlsZQ%3D%3D?line=27'>28</a>\u001b[0m max_size \u001b[39m=\u001b[39m \u001b[39m3.8\u001b[39m \u001b[39m*\u001b[39m \u001b[39m1024\u001b[39m \u001b[39m*\u001b[39m \u001b[39m1024\u001b[39m  \u001b[39m# 4MB\u001b[39;00m\n\u001b[1;32m---> <a href='vscode-notebook-cell:/d%3A/Semester%2005/Data%20Science%20and%20Engineering%20Project/temp_azure/test/resize.ipynb#W3sZmlsZQ%3D%3D?line=28'>29</a>\u001b[0m resize_image(\u001b[39m'\u001b[39;49m\u001b[39m../test_images/Image_created_with_a_mobile_phone.png\u001b[39;49m\u001b[39m'\u001b[39;49m, \u001b[39m'\u001b[39;49m\u001b[39m../test/\u001b[39;49m\u001b[39m'\u001b[39;49m, max_size)\n",
      "\u001b[1;32md:\\Semester 05\\Data Science and Engineering Project\\temp_azure\\test\\resize.ipynb Cell 4\u001b[0m line \u001b[0;36m2\n\u001b[0;32m     <a href='vscode-notebook-cell:/d%3A/Semester%2005/Data%20Science%20and%20Engineering%20Project/temp_azure/test/resize.ipynb#W3sZmlsZQ%3D%3D?line=21'>22</a>\u001b[0m resized_image \u001b[39m=\u001b[39m original_image\u001b[39m.\u001b[39mresize((new_width, new_height), Image\u001b[39m.\u001b[39mLANCZOS)\n\u001b[0;32m     <a href='vscode-notebook-cell:/d%3A/Semester%2005/Data%20Science%20and%20Engineering%20Project/temp_azure/test/resize.ipynb#W3sZmlsZQ%3D%3D?line=23'>24</a>\u001b[0m \u001b[39m# Save the resized image\u001b[39;00m\n\u001b[1;32m---> <a href='vscode-notebook-cell:/d%3A/Semester%2005/Data%20Science%20and%20Engineering%20Project/temp_azure/test/resize.ipynb#W3sZmlsZQ%3D%3D?line=24'>25</a>\u001b[0m resized_image\u001b[39m.\u001b[39;49msave(image_path)\n",
      "File \u001b[1;32mc:\\Users\\User\\anaconda3\\envs\\dl\\lib\\site-packages\\PIL\\Image.py:2393\u001b[0m, in \u001b[0;36mImage.save\u001b[1;34m(self, fp, format, **params)\u001b[0m\n\u001b[0;32m   2391\u001b[0m     \u001b[39mexcept\u001b[39;00m \u001b[39mKeyError\u001b[39;00m \u001b[39mas\u001b[39;00m e:\n\u001b[0;32m   2392\u001b[0m         msg \u001b[39m=\u001b[39m \u001b[39mf\u001b[39m\u001b[39m\"\u001b[39m\u001b[39munknown file extension: \u001b[39m\u001b[39m{\u001b[39;00mext\u001b[39m}\u001b[39;00m\u001b[39m\"\u001b[39m\n\u001b[1;32m-> 2393\u001b[0m         \u001b[39mraise\u001b[39;00m \u001b[39mValueError\u001b[39;00m(msg) \u001b[39mfrom\u001b[39;00m \u001b[39me\u001b[39;00m\n\u001b[0;32m   2395\u001b[0m \u001b[39mif\u001b[39;00m \u001b[39mformat\u001b[39m\u001b[39m.\u001b[39mupper() \u001b[39mnot\u001b[39;00m \u001b[39min\u001b[39;00m SAVE:\n\u001b[0;32m   2396\u001b[0m     init()\n",
      "\u001b[1;31mValueError\u001b[0m: unknown file extension: "
     ]
    }
   ],
   "source": [
    "from PIL import Image\n",
    "\n",
    "def resize_image(in_image_path, image_path, max_size=4 * 1024 * 1024):\n",
    "    # Open the image\n",
    "    original_image = Image.open(in_image_path)\n",
    "\n",
    "    # Get the original image dimensions\n",
    "    original_width, original_height = original_image.size\n",
    "\n",
    "    # Calculate the new width and height to reduce the size\n",
    "    new_width = original_width\n",
    "    new_height = original_height\n",
    "\n",
    "    # Calculate the number of channels (assuming 8 bits per channel)\n",
    "    num_channels = len(original_image.getbands())\n",
    "\n",
    "    while new_width * new_height * num_channels * 8 > max_size:\n",
    "        new_width = int(new_width * 0.9)\n",
    "        new_height = int(new_height * 0.9)\n",
    "\n",
    "    # Resize the image\n",
    "    resized_image = original_image.resize((new_width, new_height), Image.LANCZOS)\n",
    "\n",
    "    # Save the resized image\n",
    "    resized_image.save(image_path)\n",
    "\n",
    "# Test the function\n",
    "max_size = 3.8 * 1024 * 1024  # 4MB\n",
    "resize_image('../test_images/Image_created_with_a_mobile_phone.png', '../test/', max_size)"
   ]
  },
  {
   "cell_type": "code",
   "execution_count": null,
   "metadata": {},
   "outputs": [],
   "source": []
  },
  {
   "cell_type": "code",
   "execution_count": null,
   "metadata": {},
   "outputs": [],
   "source": []
  }
 ],
 "metadata": {
  "kernelspec": {
   "display_name": "dl",
   "language": "python",
   "name": "python3"
  },
  "language_info": {
   "codemirror_mode": {
    "name": "ipython",
    "version": 3
   },
   "file_extension": ".py",
   "mimetype": "text/x-python",
   "name": "python",
   "nbconvert_exporter": "python",
   "pygments_lexer": "ipython3",
   "version": "3.8.18"
  }
 },
 "nbformat": 4,
 "nbformat_minor": 2
}
