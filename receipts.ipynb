{
 "cells": [
  {
   "cell_type": "code",
   "execution_count": 1,
   "metadata": {},
   "outputs": [],
   "source": [
    "import json\n",
    "from azure.core.exceptions import ResourceNotFoundError\n",
    "from azure.core.credentials import AzureKeyCredential\n",
    "from azure.ai.formrecognizer import FormRecognizerClient\n",
    "import mimetypes \n",
    "import os\n",
    "import pandas as pd"
   ]
  },
  {
   "cell_type": "code",
   "execution_count": 2,
   "metadata": {},
   "outputs": [],
   "source": [
    "credentials = json.load(open('credentials.json'))\n",
    "API_KEY = credentials['API_KEY']\n",
    "ENDPOINT = credentials['ENDPOINT']\n",
    "\n",
    "form_recognizer_client = FormRecognizerClient(ENDPOINT,AzureKeyCredential(API_KEY))"
   ]
  },
  {
   "cell_type": "code",
   "execution_count": 3,
   "metadata": {},
   "outputs": [
    {
     "name": "stdout",
     "output_type": "stream",
     "text": [
      "[RecognizedForm(form_type=prebuilt:receipt, fields={'Items': FormField(value_type=list, label_data=None, value_data=None, name=Items, value=[FormField(value_type=dictionary, label_data=None, value_data=None, name=Items, value={'Name': FormField(value_type=string, label_data=None, value_data=FieldData(page_number=1, text=HL.Chk Steak(K), bounding_box=[Point(x=21.1, y=114.8), Point(x=95.1, y=122.0), Point(x=94.0, y=133.2), Point(x=20.0, y=126.0)], field_elements=None), name=Name, value='HL.Chk Steak(K)', confidence=0.953), 'Quantity': FormField(value_type=float, label_data=None, value_data=FieldData(page_number=1, text=1, bounding_box=[Point(x=6.0, y=115.0), Point(x=11.0, y=115.0), Point(x=10.0, y=125.0), Point(x=5.0, y=124.0)], field_elements=None), name=Quantity, value=1.0, confidence=0.969), 'TotalPrice': FormField(value_type=float, label_data=None, value_data=FieldData(page_number=1, text=$22.95, bounding_box=[Point(x=112.0, y=122.0), Point(x=139.0, y=124.0), Point(x=138.0, y=135.0), Point(x=111.0, y=133.0)]]\n"
     ]
    }
   ],
   "source": [
    "img_path = 'invoice_images/1006-receipt.jpg'\n",
    "\n",
    "# open file in rb mode\n",
    "with open(img_path, \"rb\") as image_file:\n",
    "    \n",
    "    content_type, _ = mimetypes.guess_type(img_path)\n",
    "    poller = form_recognizer_client.begin_recognize_receipts(image_file, content_type=content_type)\n",
    "    results = poller.result()\n",
    "\n",
    "print(results)"
   ]
  },
  {
   "cell_type": "code",
   "execution_count": null,
   "metadata": {},
   "outputs": [],
   "source": []
  }
 ],
 "metadata": {
  "kernelspec": {
   "display_name": "dl",
   "language": "python",
   "name": "python3"
  },
  "language_info": {
   "codemirror_mode": {
    "name": "ipython",
    "version": 3
   },
   "file_extension": ".py",
   "mimetype": "text/x-python",
   "name": "python",
   "nbconvert_exporter": "python",
   "pygments_lexer": "ipython3",
   "version": "3.8.18"
  }
 },
 "nbformat": 4,
 "nbformat_minor": 2
}
